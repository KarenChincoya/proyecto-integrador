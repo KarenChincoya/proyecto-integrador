{
  "metadata": {
    "kernelspec": {
      "language": "python",
      "display_name": "Python 3",
      "name": "python3"
    },
    "language_info": {
      "name": "python",
      "version": "3.7.12",
      "mimetype": "text/x-python",
      "codemirror_mode": {
        "name": "ipython",
        "version": 3
      },
      "pygments_lexer": "ipython3",
      "nbconvert_exporter": "python",
      "file_extension": ".py"
    },
    "colab": {
      "provenance": [],
      "toc_visible": true
    }
  },
  "nbformat_minor": 0,
  "nbformat": 4,
  "cells": [
    {
      "cell_type": "markdown",
      "source": [
        "# Datos\n",
        "\n",
        "**Maestría de Ciencias de Datos e Información**\n",
        "\n",
        "**Integrantes:**\n",
        "\n",
        "    Karen Itzel Velasco Chincoya,\n",
        "    Martha Karina Terán Botello,\n",
        "    Yuridiana de Jesús Reyes Delgado,\n",
        "\n",
        "**Modelos Avanzados en Ciencia de Datos**\n",
        "\n",
        "**Unidad 1 Actividad Proyecto Integrador**\n",
        "\n",
        "Diciembre 3, 2022"
      ],
      "metadata": {
        "id": "PxLczOWqGDuD"
      }
    },
    {
      "cell_type": "markdown",
      "source": [
        "# Introducción\n",
        "\n",
        "El uso de las tarjetas de crédito en la actualidad se ha vuelto más común ya que evitan manejar efectivo y permiten realizar compras que se pueden pagar posteriormente, lo que incentiva en mayor medida el consumo. El inconveniente que presentan es que se puede incurrir en incumplimientos de pago, lo que ocasiona pérdidas para los bancos e instituciones que otorgan créditos, por lo que resulta muy útil poder predecir la probabilidad de que un cliente no pague el monto del saldo de su tarjeta de crédito.\n",
        "\n",
        "La predicción de incumplimiento crediticio en función del análisis del perfil de un cliente permite optimizar las decisiones de préstamo, lo que conduce a una mejor experiencia del cliente y una mejor toma de decisiones por las instituciones que otorgan créditos.\n",
        "\n",
        "El presente trabajo plantea un modelo para ayudar a gestionar el riesgo de incumplimiento a través de una serie de variables identificadas de cada cliente en cada estado de cuenta para perfilarlo. Dichas variables se clasifican en las siguientes categorías generales:\n",
        "\n",
        "- Variables de delincuencia\n",
        "- Variables de gasto\n",
        "- Variables de pago\n",
        "- Variables de saldo\n",
        "- Variables de riesgo\n",
        "\n",
        "\n",
        "\n",
        "\n"
      ],
      "metadata": {
        "id": "G809olz1jZxU"
      }
    },
    {
      "cell_type": "markdown",
      "source": [
        "# Desarrollo\n",
        "\n",
        "En este trabajo se realizó una extracción de una parte de los registros y posteriormente se realiza una limpieza de los mismos para ser utilizados.\n",
        "\n"
      ],
      "metadata": {
        "id": "yzieNMcwcADm"
      }
    },
    {
      "cell_type": "code",
      "source": [
        "#Se importan las librerías a utilizar\n",
        "\n",
        "import numpy as np # linear algebra\n",
        "import pandas as pd # data processing, CSV file I/O (e.g. pd.read_csv)\n",
        "import seaborn as sns\n",
        "import matplotlib.pyplot as plt\n",
        "from datetime import datetime\n",
        "\n",
        "from imblearn.pipeline import Pipeline\n",
        "from sklearn.impute import SimpleImputer\n",
        "from sklearn.preprocessing import OneHotEncoder\n",
        "from sklearn.preprocessing import StandardScaler\n",
        "from sklearn.compose import ColumnTransformer\n",
        "from sklearn.model_selection import train_test_split\n",
        "from sklearn import preprocessing, decomposition, impute\n",
        "from sklearn.experimental import enable_iterative_imputer\n"
      ],
      "metadata": {
        "_uuid": "8f2839f25d086af736a60e9eeb907d3b93b6e0e5",
        "_cell_guid": "b1076dfc-b9ad-4769-8c92-a6c4dae69d19",
        "execution": {
          "iopub.status.busy": "2022-10-08T22:54:00.314255Z",
          "iopub.execute_input": "2022-10-08T22:54:00.314650Z",
          "iopub.status.idle": "2022-10-08T22:54:01.026971Z",
          "shell.execute_reply.started": "2022-10-08T22:54:00.314578Z",
          "shell.execute_reply": "2022-10-08T22:54:01.025868Z"
        },
        "trusted": true,
        "id": "ZCRo0wy6BIbt"
      },
      "execution_count": null,
      "outputs": []
    },
    {
      "cell_type": "code",
      "source": [
        "# Se importan los archivos que serán utilizados desde la plataforma de kaggle\n",
        "import os\n",
        "for dirname, _, filenames in os.walk('/kaggle/input'):\n",
        "    for filename in filenames:\n",
        "        print(os.path.join(dirname, filename))"
      ],
      "metadata": {
        "execution": {
          "iopub.status.busy": "2022-10-08T22:54:01.850933Z",
          "iopub.execute_input": "2022-10-08T22:54:01.851266Z",
          "iopub.status.idle": "2022-10-08T22:54:01.857343Z",
          "shell.execute_reply.started": "2022-10-08T22:54:01.851242Z",
          "shell.execute_reply": "2022-10-08T22:54:01.856503Z"
        },
        "trusted": true,
        "id": "MXjlZAcEBIbv"
      },
      "execution_count": null,
      "outputs": []
    },
    {
      "cell_type": "markdown",
      "source": [
        "## Información \n",
        "\n",
        "En este trabajo se uso una muestra de 10,000 registros para los siguientes algoritmos, ya que por el volumen de datos se dificulta su procesamiento. \n",
        "\n",
        "**Columnas:** Se eliminaron las columnas que no tuvieran un 75% de valores, eliminando 23 columnas.\n",
        "\n",
        "**PCA:** Para trabajar con el número de columnas del dataset, se aplica Principal Component Analysis para realizar una reducción.\n",
        "\n"
      ],
      "metadata": {
        "id": "P4p-EaEIBIbw"
      }
    },
    {
      "cell_type": "code",
      "source": [
        "# Se cargan los archivos de datos proporcionados con la información crediticia de los usuarios\n",
        "train_df_sample = pd.read_csv('/content/train_df_sample.csv')\n",
        "train_label_df = pd.read_csv('/content/train_label_df.csv')\n",
        "train_df = pd.merge(train_df_sample, train_label_df, how=\"inner\", on=[\"customer_ID\"])\n",
        "test_df = pd.read_csv('/content/test_df.csv')\n",
        "sample_submission_df = pd.read_csv('/content/sample_submission_df.csv')"
      ],
      "metadata": {
        "execution": {
          "iopub.status.busy": "2022-10-08T22:54:03.690419Z",
          "iopub.execute_input": "2022-10-08T22:54:03.690724Z",
          "iopub.status.idle": "2022-10-08T22:54:08.179096Z",
          "shell.execute_reply.started": "2022-10-08T22:54:03.690702Z",
          "shell.execute_reply": "2022-10-08T22:54:08.177743Z"
        },
        "trusted": true,
        "id": "TduWJlZABIbx",
        "outputId": "4eedce0e-20dc-468f-d4b3-9312aac1b8ab",
        "colab": {
          "base_uri": "https://localhost:8080/",
          "height": 395
        }
      },
      "execution_count": null,
      "outputs": [
        {
          "output_type": "error",
          "ename": "FileNotFoundError",
          "evalue": "ignored",
          "traceback": [
            "\u001b[0;31m---------------------------------------------------------------------------\u001b[0m",
            "\u001b[0;31mFileNotFoundError\u001b[0m                         Traceback (most recent call last)",
            "\u001b[0;32m<ipython-input-3-43abb467b75e>\u001b[0m in \u001b[0;36m<module>\u001b[0;34m\u001b[0m\n\u001b[1;32m      1\u001b[0m \u001b[0;31m# Se cargan los archivos de datos proporcionados con la información crediticia de los usuarios\u001b[0m\u001b[0;34m\u001b[0m\u001b[0;34m\u001b[0m\u001b[0;34m\u001b[0m\u001b[0m\n\u001b[0;32m----> 2\u001b[0;31m \u001b[0mtrain_df_sample\u001b[0m \u001b[0;34m=\u001b[0m \u001b[0mpd\u001b[0m\u001b[0;34m.\u001b[0m\u001b[0mread_csv\u001b[0m\u001b[0;34m(\u001b[0m\u001b[0;34m'/content/train_df_sample.csv'\u001b[0m\u001b[0;34m)\u001b[0m\u001b[0;34m\u001b[0m\u001b[0;34m\u001b[0m\u001b[0m\n\u001b[0m\u001b[1;32m      3\u001b[0m \u001b[0mtrain_label_df\u001b[0m \u001b[0;34m=\u001b[0m \u001b[0mpd\u001b[0m\u001b[0;34m.\u001b[0m\u001b[0mread_csv\u001b[0m\u001b[0;34m(\u001b[0m\u001b[0;34m'/content/train_label_df.csv'\u001b[0m\u001b[0;34m)\u001b[0m\u001b[0;34m\u001b[0m\u001b[0;34m\u001b[0m\u001b[0m\n\u001b[1;32m      4\u001b[0m \u001b[0mtrain_df\u001b[0m \u001b[0;34m=\u001b[0m \u001b[0mpd\u001b[0m\u001b[0;34m.\u001b[0m\u001b[0mmerge\u001b[0m\u001b[0;34m(\u001b[0m\u001b[0mtrain_df_sample\u001b[0m\u001b[0;34m,\u001b[0m \u001b[0mtrain_label_df\u001b[0m\u001b[0;34m,\u001b[0m \u001b[0mhow\u001b[0m\u001b[0;34m=\u001b[0m\u001b[0;34m\"inner\"\u001b[0m\u001b[0;34m,\u001b[0m \u001b[0mon\u001b[0m\u001b[0;34m=\u001b[0m\u001b[0;34m[\u001b[0m\u001b[0;34m\"customer_ID\"\u001b[0m\u001b[0;34m]\u001b[0m\u001b[0;34m)\u001b[0m\u001b[0;34m\u001b[0m\u001b[0;34m\u001b[0m\u001b[0m\n\u001b[1;32m      5\u001b[0m \u001b[0mtest_df\u001b[0m \u001b[0;34m=\u001b[0m \u001b[0mpd\u001b[0m\u001b[0;34m.\u001b[0m\u001b[0mread_csv\u001b[0m\u001b[0;34m(\u001b[0m\u001b[0;34m'/content/test_df.csv'\u001b[0m\u001b[0;34m)\u001b[0m\u001b[0;34m\u001b[0m\u001b[0;34m\u001b[0m\u001b[0m\n",
            "\u001b[0;32m/usr/local/lib/python3.8/dist-packages/pandas/util/_decorators.py\u001b[0m in \u001b[0;36mwrapper\u001b[0;34m(*args, **kwargs)\u001b[0m\n\u001b[1;32m    309\u001b[0m                     \u001b[0mstacklevel\u001b[0m\u001b[0;34m=\u001b[0m\u001b[0mstacklevel\u001b[0m\u001b[0;34m,\u001b[0m\u001b[0;34m\u001b[0m\u001b[0;34m\u001b[0m\u001b[0m\n\u001b[1;32m    310\u001b[0m                 )\n\u001b[0;32m--> 311\u001b[0;31m             \u001b[0;32mreturn\u001b[0m \u001b[0mfunc\u001b[0m\u001b[0;34m(\u001b[0m\u001b[0;34m*\u001b[0m\u001b[0margs\u001b[0m\u001b[0;34m,\u001b[0m \u001b[0;34m**\u001b[0m\u001b[0mkwargs\u001b[0m\u001b[0;34m)\u001b[0m\u001b[0;34m\u001b[0m\u001b[0;34m\u001b[0m\u001b[0m\n\u001b[0m\u001b[1;32m    312\u001b[0m \u001b[0;34m\u001b[0m\u001b[0m\n\u001b[1;32m    313\u001b[0m         \u001b[0;32mreturn\u001b[0m \u001b[0mwrapper\u001b[0m\u001b[0;34m\u001b[0m\u001b[0;34m\u001b[0m\u001b[0m\n",
            "\u001b[0;32m/usr/local/lib/python3.8/dist-packages/pandas/io/parsers/readers.py\u001b[0m in \u001b[0;36mread_csv\u001b[0;34m(filepath_or_buffer, sep, delimiter, header, names, index_col, usecols, squeeze, prefix, mangle_dupe_cols, dtype, engine, converters, true_values, false_values, skipinitialspace, skiprows, skipfooter, nrows, na_values, keep_default_na, na_filter, verbose, skip_blank_lines, parse_dates, infer_datetime_format, keep_date_col, date_parser, dayfirst, cache_dates, iterator, chunksize, compression, thousands, decimal, lineterminator, quotechar, quoting, doublequote, escapechar, comment, encoding, encoding_errors, dialect, error_bad_lines, warn_bad_lines, on_bad_lines, delim_whitespace, low_memory, memory_map, float_precision, storage_options)\u001b[0m\n\u001b[1;32m    584\u001b[0m     \u001b[0mkwds\u001b[0m\u001b[0;34m.\u001b[0m\u001b[0mupdate\u001b[0m\u001b[0;34m(\u001b[0m\u001b[0mkwds_defaults\u001b[0m\u001b[0;34m)\u001b[0m\u001b[0;34m\u001b[0m\u001b[0;34m\u001b[0m\u001b[0m\n\u001b[1;32m    585\u001b[0m \u001b[0;34m\u001b[0m\u001b[0m\n\u001b[0;32m--> 586\u001b[0;31m     \u001b[0;32mreturn\u001b[0m \u001b[0m_read\u001b[0m\u001b[0;34m(\u001b[0m\u001b[0mfilepath_or_buffer\u001b[0m\u001b[0;34m,\u001b[0m \u001b[0mkwds\u001b[0m\u001b[0;34m)\u001b[0m\u001b[0;34m\u001b[0m\u001b[0;34m\u001b[0m\u001b[0m\n\u001b[0m\u001b[1;32m    587\u001b[0m \u001b[0;34m\u001b[0m\u001b[0m\n\u001b[1;32m    588\u001b[0m \u001b[0;34m\u001b[0m\u001b[0m\n",
            "\u001b[0;32m/usr/local/lib/python3.8/dist-packages/pandas/io/parsers/readers.py\u001b[0m in \u001b[0;36m_read\u001b[0;34m(filepath_or_buffer, kwds)\u001b[0m\n\u001b[1;32m    480\u001b[0m \u001b[0;34m\u001b[0m\u001b[0m\n\u001b[1;32m    481\u001b[0m     \u001b[0;31m# Create the parser.\u001b[0m\u001b[0;34m\u001b[0m\u001b[0;34m\u001b[0m\u001b[0;34m\u001b[0m\u001b[0m\n\u001b[0;32m--> 482\u001b[0;31m     \u001b[0mparser\u001b[0m \u001b[0;34m=\u001b[0m \u001b[0mTextFileReader\u001b[0m\u001b[0;34m(\u001b[0m\u001b[0mfilepath_or_buffer\u001b[0m\u001b[0;34m,\u001b[0m \u001b[0;34m**\u001b[0m\u001b[0mkwds\u001b[0m\u001b[0;34m)\u001b[0m\u001b[0;34m\u001b[0m\u001b[0;34m\u001b[0m\u001b[0m\n\u001b[0m\u001b[1;32m    483\u001b[0m \u001b[0;34m\u001b[0m\u001b[0m\n\u001b[1;32m    484\u001b[0m     \u001b[0;32mif\u001b[0m \u001b[0mchunksize\u001b[0m \u001b[0;32mor\u001b[0m \u001b[0miterator\u001b[0m\u001b[0;34m:\u001b[0m\u001b[0;34m\u001b[0m\u001b[0;34m\u001b[0m\u001b[0m\n",
            "\u001b[0;32m/usr/local/lib/python3.8/dist-packages/pandas/io/parsers/readers.py\u001b[0m in \u001b[0;36m__init__\u001b[0;34m(self, f, engine, **kwds)\u001b[0m\n\u001b[1;32m    809\u001b[0m             \u001b[0mself\u001b[0m\u001b[0;34m.\u001b[0m\u001b[0moptions\u001b[0m\u001b[0;34m[\u001b[0m\u001b[0;34m\"has_index_names\"\u001b[0m\u001b[0;34m]\u001b[0m \u001b[0;34m=\u001b[0m \u001b[0mkwds\u001b[0m\u001b[0;34m[\u001b[0m\u001b[0;34m\"has_index_names\"\u001b[0m\u001b[0;34m]\u001b[0m\u001b[0;34m\u001b[0m\u001b[0;34m\u001b[0m\u001b[0m\n\u001b[1;32m    810\u001b[0m \u001b[0;34m\u001b[0m\u001b[0m\n\u001b[0;32m--> 811\u001b[0;31m         \u001b[0mself\u001b[0m\u001b[0;34m.\u001b[0m\u001b[0m_engine\u001b[0m \u001b[0;34m=\u001b[0m \u001b[0mself\u001b[0m\u001b[0;34m.\u001b[0m\u001b[0m_make_engine\u001b[0m\u001b[0;34m(\u001b[0m\u001b[0mself\u001b[0m\u001b[0;34m.\u001b[0m\u001b[0mengine\u001b[0m\u001b[0;34m)\u001b[0m\u001b[0;34m\u001b[0m\u001b[0;34m\u001b[0m\u001b[0m\n\u001b[0m\u001b[1;32m    812\u001b[0m \u001b[0;34m\u001b[0m\u001b[0m\n\u001b[1;32m    813\u001b[0m     \u001b[0;32mdef\u001b[0m \u001b[0mclose\u001b[0m\u001b[0;34m(\u001b[0m\u001b[0mself\u001b[0m\u001b[0;34m)\u001b[0m\u001b[0;34m:\u001b[0m\u001b[0;34m\u001b[0m\u001b[0;34m\u001b[0m\u001b[0m\n",
            "\u001b[0;32m/usr/local/lib/python3.8/dist-packages/pandas/io/parsers/readers.py\u001b[0m in \u001b[0;36m_make_engine\u001b[0;34m(self, engine)\u001b[0m\n\u001b[1;32m   1038\u001b[0m             )\n\u001b[1;32m   1039\u001b[0m         \u001b[0;31m# error: Too many arguments for \"ParserBase\"\u001b[0m\u001b[0;34m\u001b[0m\u001b[0;34m\u001b[0m\u001b[0;34m\u001b[0m\u001b[0m\n\u001b[0;32m-> 1040\u001b[0;31m         \u001b[0;32mreturn\u001b[0m \u001b[0mmapping\u001b[0m\u001b[0;34m[\u001b[0m\u001b[0mengine\u001b[0m\u001b[0;34m]\u001b[0m\u001b[0;34m(\u001b[0m\u001b[0mself\u001b[0m\u001b[0;34m.\u001b[0m\u001b[0mf\u001b[0m\u001b[0;34m,\u001b[0m \u001b[0;34m**\u001b[0m\u001b[0mself\u001b[0m\u001b[0;34m.\u001b[0m\u001b[0moptions\u001b[0m\u001b[0;34m)\u001b[0m  \u001b[0;31m# type: ignore[call-arg]\u001b[0m\u001b[0;34m\u001b[0m\u001b[0;34m\u001b[0m\u001b[0m\n\u001b[0m\u001b[1;32m   1041\u001b[0m \u001b[0;34m\u001b[0m\u001b[0m\n\u001b[1;32m   1042\u001b[0m     \u001b[0;32mdef\u001b[0m \u001b[0m_failover_to_python\u001b[0m\u001b[0;34m(\u001b[0m\u001b[0mself\u001b[0m\u001b[0;34m)\u001b[0m\u001b[0;34m:\u001b[0m\u001b[0;34m\u001b[0m\u001b[0;34m\u001b[0m\u001b[0m\n",
            "\u001b[0;32m/usr/local/lib/python3.8/dist-packages/pandas/io/parsers/c_parser_wrapper.py\u001b[0m in \u001b[0;36m__init__\u001b[0;34m(self, src, **kwds)\u001b[0m\n\u001b[1;32m     49\u001b[0m \u001b[0;34m\u001b[0m\u001b[0m\n\u001b[1;32m     50\u001b[0m         \u001b[0;31m# open handles\u001b[0m\u001b[0;34m\u001b[0m\u001b[0;34m\u001b[0m\u001b[0;34m\u001b[0m\u001b[0m\n\u001b[0;32m---> 51\u001b[0;31m         \u001b[0mself\u001b[0m\u001b[0;34m.\u001b[0m\u001b[0m_open_handles\u001b[0m\u001b[0;34m(\u001b[0m\u001b[0msrc\u001b[0m\u001b[0;34m,\u001b[0m \u001b[0mkwds\u001b[0m\u001b[0;34m)\u001b[0m\u001b[0;34m\u001b[0m\u001b[0;34m\u001b[0m\u001b[0m\n\u001b[0m\u001b[1;32m     52\u001b[0m         \u001b[0;32massert\u001b[0m \u001b[0mself\u001b[0m\u001b[0;34m.\u001b[0m\u001b[0mhandles\u001b[0m \u001b[0;32mis\u001b[0m \u001b[0;32mnot\u001b[0m \u001b[0;32mNone\u001b[0m\u001b[0;34m\u001b[0m\u001b[0;34m\u001b[0m\u001b[0m\n\u001b[1;32m     53\u001b[0m \u001b[0;34m\u001b[0m\u001b[0m\n",
            "\u001b[0;32m/usr/local/lib/python3.8/dist-packages/pandas/io/parsers/base_parser.py\u001b[0m in \u001b[0;36m_open_handles\u001b[0;34m(self, src, kwds)\u001b[0m\n\u001b[1;32m    220\u001b[0m         \u001b[0mLet\u001b[0m \u001b[0mthe\u001b[0m \u001b[0mreaders\u001b[0m \u001b[0mopen\u001b[0m \u001b[0mIOHandles\u001b[0m \u001b[0mafter\u001b[0m \u001b[0mthey\u001b[0m \u001b[0mare\u001b[0m \u001b[0mdone\u001b[0m \u001b[0;32mwith\u001b[0m \u001b[0mtheir\u001b[0m \u001b[0mpotential\u001b[0m \u001b[0mraises\u001b[0m\u001b[0;34m.\u001b[0m\u001b[0;34m\u001b[0m\u001b[0;34m\u001b[0m\u001b[0m\n\u001b[1;32m    221\u001b[0m         \"\"\"\n\u001b[0;32m--> 222\u001b[0;31m         self.handles = get_handle(\n\u001b[0m\u001b[1;32m    223\u001b[0m             \u001b[0msrc\u001b[0m\u001b[0;34m,\u001b[0m\u001b[0;34m\u001b[0m\u001b[0;34m\u001b[0m\u001b[0m\n\u001b[1;32m    224\u001b[0m             \u001b[0;34m\"r\"\u001b[0m\u001b[0;34m,\u001b[0m\u001b[0;34m\u001b[0m\u001b[0;34m\u001b[0m\u001b[0m\n",
            "\u001b[0;32m/usr/local/lib/python3.8/dist-packages/pandas/io/common.py\u001b[0m in \u001b[0;36mget_handle\u001b[0;34m(path_or_buf, mode, encoding, compression, memory_map, is_text, errors, storage_options)\u001b[0m\n\u001b[1;32m    700\u001b[0m         \u001b[0;32mif\u001b[0m \u001b[0mioargs\u001b[0m\u001b[0;34m.\u001b[0m\u001b[0mencoding\u001b[0m \u001b[0;32mand\u001b[0m \u001b[0;34m\"b\"\u001b[0m \u001b[0;32mnot\u001b[0m \u001b[0;32min\u001b[0m \u001b[0mioargs\u001b[0m\u001b[0;34m.\u001b[0m\u001b[0mmode\u001b[0m\u001b[0;34m:\u001b[0m\u001b[0;34m\u001b[0m\u001b[0;34m\u001b[0m\u001b[0m\n\u001b[1;32m    701\u001b[0m             \u001b[0;31m# Encoding\u001b[0m\u001b[0;34m\u001b[0m\u001b[0;34m\u001b[0m\u001b[0;34m\u001b[0m\u001b[0m\n\u001b[0;32m--> 702\u001b[0;31m             handle = open(\n\u001b[0m\u001b[1;32m    703\u001b[0m                 \u001b[0mhandle\u001b[0m\u001b[0;34m,\u001b[0m\u001b[0;34m\u001b[0m\u001b[0;34m\u001b[0m\u001b[0m\n\u001b[1;32m    704\u001b[0m                 \u001b[0mioargs\u001b[0m\u001b[0;34m.\u001b[0m\u001b[0mmode\u001b[0m\u001b[0;34m,\u001b[0m\u001b[0;34m\u001b[0m\u001b[0;34m\u001b[0m\u001b[0m\n",
            "\u001b[0;31mFileNotFoundError\u001b[0m: [Errno 2] No such file or directory: '/content/train_df_sample.csv'"
          ]
        }
      ]
    },
    {
      "cell_type": "markdown",
      "source": [
        "## Explora los datos del problema\n"
      ],
      "metadata": {
        "id": "3ZBUAgcEBIby"
      }
    },
    {
      "cell_type": "code",
      "source": [
        "#Se visualiza información de cada conjunto de datos\n",
        "print(\"-------- Archivo de Entrenamiento ----------\")\n",
        "print(\"Filas:\",train_df.shape[0],\" Columnas:\",train_df.shape[1])\n",
        "train_df.info()\n",
        "display(train_df.head())\n",
        "print(\"\\n\")\n",
        "print(\"-------- Archivo de Pruebas ----------\")\n",
        "print(\"Filas:\",test_df.shape[0],\" Columnas:\",test_df.shape[1])\n",
        "test_df.info()\n",
        "display(test_df.head())"
      ],
      "metadata": {
        "execution": {
          "iopub.status.busy": "2022-10-08T22:54:08.181394Z",
          "iopub.execute_input": "2022-10-08T22:54:08.181815Z",
          "iopub.status.idle": "2022-10-08T22:54:08.258052Z",
          "shell.execute_reply.started": "2022-10-08T22:54:08.181771Z",
          "shell.execute_reply": "2022-10-08T22:54:08.256802Z"
        },
        "trusted": true,
        "id": "FDpWZfAIBIby"
      },
      "execution_count": null,
      "outputs": []
    },
    {
      "cell_type": "code",
      "source": [
        "#Aquí se agrupan y cuentan los registros por tipo de cliente\n",
        "clientes = train_df.groupby('target').count().reset_index()\n",
        "clientes['Conteo'] = clientes['customer_ID']\n",
        "clientes = clientes.filter(['target','Conteo'])\n",
        "clientes"
      ],
      "metadata": {
        "execution": {
          "iopub.status.busy": "2022-10-08T22:54:08.259581Z",
          "iopub.execute_input": "2022-10-08T22:54:08.259866Z",
          "iopub.status.idle": "2022-10-08T22:54:08.291775Z",
          "shell.execute_reply.started": "2022-10-08T22:54:08.259842Z",
          "shell.execute_reply": "2022-10-08T22:54:08.290700Z"
        },
        "trusted": true,
        "id": "88uMA4yzBIbz"
      },
      "execution_count": null,
      "outputs": []
    },
    {
      "cell_type": "code",
      "source": [
        "#Se grafica el conteo de tipo de cliente identificado \n",
        "plt.figure(figsize=(20,10))\n",
        "plt.pie(clientes['Conteo'],\n",
        "        labels=clientes['target'],\n",
        "        colors=['#19668A','#17C4EA'],\n",
        "        shadow=True,\n",
        "        explode=[0, 0.1],\n",
        "        autopct='%1.1f%%',\n",
        "        textprops=dict(color=\"w\", weight=\"bold\", size=14)\n",
        "       )\n",
        "plt.show()\n"
      ],
      "metadata": {
        "execution": {
          "iopub.status.busy": "2022-10-08T22:54:12.032965Z",
          "iopub.execute_input": "2022-10-08T22:54:12.033313Z",
          "iopub.status.idle": "2022-10-08T22:54:12.181091Z",
          "shell.execute_reply.started": "2022-10-08T22:54:12.033287Z",
          "shell.execute_reply": "2022-10-08T22:54:12.179952Z"
        },
        "trusted": true,
        "id": "CskXxuY4BIb0"
      },
      "execution_count": null,
      "outputs": []
    },
    {
      "cell_type": "code",
      "source": [
        "#Se identifican los registros por año\n",
        "anios = pd.to_datetime(test_df['S_2']).dt.year\n",
        "anios"
      ],
      "metadata": {
        "id": "TwGLn9sUR1QJ"
      },
      "execution_count": null,
      "outputs": []
    },
    {
      "cell_type": "code",
      "source": [
        "#Se genera la gráfica correspondiente para indicar los los diferentes años de información con los que se cuenta.\n",
        "grafica_barras = sns.displot(anios)"
      ],
      "metadata": {
        "id": "jl8PSenvdwSp"
      },
      "execution_count": null,
      "outputs": []
    },
    {
      "cell_type": "markdown",
      "source": [
        "### Describe cual es la relación de tu variable objetivo con las demás variables presentes. \n",
        "\n",
        "La relación es que las diferentes variables indicadas de los rubros de **Delincuencia (D), Gasto (S), Pago (P), Saldo (B) y Riesgo (R)** nos permiten calificar la capacidad de pago de un cliente o no."
      ],
      "metadata": {
        "id": "GvGgkShEBIb0"
      }
    },
    {
      "cell_type": "markdown",
      "source": [
        "Los registros que tienen un target=1 (Pago) representa el 25.4% mientras que los que tienen un target=0 (No pago) son el 74.6% \n",
        "\n",
        "### Determina cuales son las variables que tienen mayor correlación con tu objetivo. \n",
        " "
      ],
      "metadata": {
        "id": "AQ0yLtRLBIb1"
      }
    },
    {
      "cell_type": "code",
      "source": [
        "#Se define la variable con las columnas con más relación con el objetivo.\n",
        "columnas_categoricas = train_df[['B_30', 'B_38', 'D_114', 'D_116', 'D_117', 'D_120', 'D_126', 'D_63', 'D_64','D_68']]\n",
        "columnas_categoricas"
      ],
      "metadata": {
        "execution": {
          "iopub.status.busy": "2022-10-08T22:54:15.188189Z",
          "iopub.execute_input": "2022-10-08T22:54:15.188547Z",
          "iopub.status.idle": "2022-10-08T22:54:15.213203Z",
          "shell.execute_reply.started": "2022-10-08T22:54:15.188522Z",
          "shell.execute_reply": "2022-10-08T22:54:15.212170Z"
        },
        "trusted": true,
        "id": "9zzfHqeVBIb1"
      },
      "execution_count": null,
      "outputs": []
    },
    {
      "cell_type": "code",
      "source": [
        "columnas_categoricas.isnull().sum()\n",
        "columnas_categoricas"
      ],
      "metadata": {
        "execution": {
          "iopub.status.busy": "2022-10-08T22:54:17.626089Z",
          "iopub.execute_input": "2022-10-08T22:54:17.626428Z",
          "iopub.status.idle": "2022-10-08T22:54:17.651021Z",
          "shell.execute_reply.started": "2022-10-08T22:54:17.626403Z",
          "shell.execute_reply": "2022-10-08T22:54:17.650068Z"
        },
        "trusted": true,
        "id": "cV0g_jc1BIb1"
      },
      "execution_count": null,
      "outputs": []
    },
    {
      "cell_type": "code",
      "source": [
        "#Codificamos etiquetas con valor entre 0 y n-1 y nos devuelve las etiquetas codificadas\n",
        "LabelEncoder = preprocessing.LabelEncoder()\n",
        "columnas_categoricas = columnas_categoricas.apply(LabelEncoder.fit_transform)\n",
        "columnas_categoricas"
      ],
      "metadata": {
        "execution": {
          "iopub.status.busy": "2022-10-08T22:54:20.190560Z",
          "iopub.execute_input": "2022-10-08T22:54:20.190893Z",
          "iopub.status.idle": "2022-10-08T22:54:20.213928Z",
          "shell.execute_reply.started": "2022-10-08T22:54:20.190864Z",
          "shell.execute_reply": "2022-10-08T22:54:20.213057Z"
        },
        "trusted": true,
        "id": "CV5gA6yZBIb2"
      },
      "execution_count": null,
      "outputs": []
    },
    {
      "cell_type": "code",
      "source": [
        "#Codificamos las variables categóricas como una única matriz numérica y guardamos en un arreglo\n",
        "Encoder = preprocessing.OneHotEncoder()\n",
        "Encoder.fit(columnas_categoricas)\n",
        "ohl = Encoder.transform(columnas_categoricas).toarray()\n",
        "ohl"
      ],
      "metadata": {
        "execution": {
          "iopub.status.busy": "2022-10-08T22:54:22.126264Z",
          "iopub.execute_input": "2022-10-08T22:54:22.126658Z",
          "iopub.status.idle": "2022-10-08T22:54:22.142450Z",
          "shell.execute_reply.started": "2022-10-08T22:54:22.126632Z",
          "shell.execute_reply": "2022-10-08T22:54:22.141531Z"
        },
        "trusted": true,
        "id": "MqhxIDebBIb3"
      },
      "execution_count": null,
      "outputs": []
    },
    {
      "cell_type": "code",
      "source": [
        "#Obtenemos el listado de los nombres de las variables categóricas\n",
        "nombres_columnas_categoricas = Encoder.get_feature_names_out(list(columnas_categoricas.columns))\n",
        "nombres_columnas_categoricas"
      ],
      "metadata": {
        "execution": {
          "iopub.status.busy": "2022-10-08T22:54:24.626955Z",
          "iopub.execute_input": "2022-10-08T22:54:24.627635Z",
          "iopub.status.idle": "2022-10-08T22:54:24.633750Z",
          "shell.execute_reply.started": "2022-10-08T22:54:24.627609Z",
          "shell.execute_reply": "2022-10-08T22:54:24.632795Z"
        },
        "trusted": true,
        "id": "4IOZFZhaBIb3"
      },
      "execution_count": null,
      "outputs": []
    },
    {
      "cell_type": "code",
      "source": [
        "#Generamos el conjunto de datos de las variables categóricas\n",
        "df_cc = pd.DataFrame(ohl,columns=nombres_columnas_categoricas)\n",
        "df_cc"
      ],
      "metadata": {
        "execution": {
          "iopub.status.busy": "2022-10-08T22:54:26.449225Z",
          "iopub.execute_input": "2022-10-08T22:54:26.449612Z",
          "iopub.status.idle": "2022-10-08T22:54:26.490960Z",
          "shell.execute_reply.started": "2022-10-08T22:54:26.449583Z",
          "shell.execute_reply": "2022-10-08T22:54:26.489769Z"
        },
        "trusted": true,
        "id": "DjC_qDJ3BIb3"
      },
      "execution_count": null,
      "outputs": []
    },
    {
      "cell_type": "code",
      "source": [
        "# Se crea el conjunto de datos de entrenamiento con las variables categóricas \n",
        "train_df = train_df.drop(columns = columnas_categoricas.columns)\n",
        "train_df = train_df.join(df_cc)\n",
        "train_df"
      ],
      "metadata": {
        "execution": {
          "iopub.status.busy": "2022-10-08T22:54:28.351337Z",
          "iopub.execute_input": "2022-10-08T22:54:28.351658Z",
          "iopub.status.idle": "2022-10-08T22:54:28.393026Z",
          "shell.execute_reply.started": "2022-10-08T22:54:28.351635Z",
          "shell.execute_reply": "2022-10-08T22:54:28.392040Z"
        },
        "trusted": true,
        "id": "EHgWvZg-BIb4"
      },
      "execution_count": null,
      "outputs": []
    },
    {
      "cell_type": "code",
      "source": [
        "# Se crean los conjuntos de datos de entrenamiento para \"x\" y para \"y\"\n",
        "train_df_x = train_df.drop(columns=['target'])\n",
        "train_df_y = train_df[['target']]"
      ],
      "metadata": {
        "execution": {
          "iopub.status.busy": "2022-10-08T22:54:31.496657Z",
          "iopub.execute_input": "2022-10-08T22:54:31.496965Z",
          "iopub.status.idle": "2022-10-08T22:54:31.511993Z",
          "shell.execute_reply.started": "2022-10-08T22:54:31.496941Z",
          "shell.execute_reply": "2022-10-08T22:54:31.511294Z"
        },
        "trusted": true,
        "id": "7F5HLseSBIb5"
      },
      "execution_count": null,
      "outputs": []
    },
    {
      "cell_type": "code",
      "source": [
        "#Se crea el conjunto de datos de entrenamiento para aplicar Principal Component Analysis\n",
        "train_df_PCA = train_df_x.drop(columns=['customer_ID','S_2'])"
      ],
      "metadata": {
        "execution": {
          "iopub.status.busy": "2022-10-08T22:54:33.127645Z",
          "iopub.execute_input": "2022-10-08T22:54:33.128590Z",
          "iopub.status.idle": "2022-10-08T22:54:33.137888Z",
          "shell.execute_reply.started": "2022-10-08T22:54:33.128538Z",
          "shell.execute_reply": "2022-10-08T22:54:33.136724Z"
        },
        "trusted": true,
        "id": "LiBLruC7BIb5"
      },
      "execution_count": null,
      "outputs": []
    },
    {
      "cell_type": "code",
      "source": [
        "# Se genera la variable para la estimación de cada característica a partir de las demás.\n",
        "mv = impute.IterativeImputer()"
      ],
      "metadata": {
        "execution": {
          "iopub.status.busy": "2022-10-08T22:54:34.884285Z",
          "iopub.execute_input": "2022-10-08T22:54:34.884636Z",
          "iopub.status.idle": "2022-10-08T22:54:34.889107Z",
          "shell.execute_reply.started": "2022-10-08T22:54:34.884611Z",
          "shell.execute_reply": "2022-10-08T22:54:34.887880Z"
        },
        "trusted": true,
        "id": "McfXfsG2BIb6"
      },
      "execution_count": null,
      "outputs": []
    },
    {
      "cell_type": "code",
      "source": [
        "#\n",
        "train_df_x_impute = mv.fit_transform(train_df_PCA)\n",
        "train_df_x_impute"
      ],
      "metadata": {
        "execution": {
          "iopub.status.busy": "2022-10-08T22:54:36.347872Z",
          "iopub.execute_input": "2022-10-08T22:54:36.348236Z",
          "iopub.status.idle": "2022-10-08T23:02:45.603132Z",
          "shell.execute_reply.started": "2022-10-08T22:54:36.348212Z",
          "shell.execute_reply": "2022-10-08T23:02:45.602265Z"
        },
        "trusted": true,
        "id": "NXALw_2kBIb6"
      },
      "execution_count": null,
      "outputs": []
    },
    {
      "cell_type": "code",
      "source": [
        "#\n",
        "train_df_x_impute_df = pd.DataFrame(train_df_x_impute,columns=list(train_df_PCA.columns))"
      ],
      "metadata": {
        "execution": {
          "iopub.status.busy": "2022-10-08T23:02:58.513942Z",
          "iopub.execute_input": "2022-10-08T23:02:58.514247Z",
          "iopub.status.idle": "2022-10-08T23:02:58.520293Z",
          "shell.execute_reply.started": "2022-10-08T23:02:58.514221Z",
          "shell.execute_reply": "2022-10-08T23:02:58.519073Z"
        },
        "trusted": true,
        "id": "hgLO2aw-BIb6"
      },
      "execution_count": null,
      "outputs": []
    },
    {
      "cell_type": "code",
      "source": [
        "#Se genera la tabla de correlaciones de las variables categóricas\n",
        "correlation = columnas_categoricas.corr()\n",
        "correlation"
      ],
      "metadata": {
        "id": "2noUathgLgOY"
      },
      "execution_count": null,
      "outputs": []
    },
    {
      "cell_type": "code",
      "source": [
        "#Se grafica la tabla de correlaciones\n",
        "sns.set(rc = {'figure.figsize':(15,15)})\n",
        "sns.heatmap(correlation, cmap=\"YlGnBu\", annot=True)\n",
        "plt.show()"
      ],
      "metadata": {
        "id": "t67ZpImKOaqT"
      },
      "execution_count": null,
      "outputs": []
    },
    {
      "cell_type": "markdown",
      "source": [
        "## Aplica ingeniería de características para diseñar nuevas características en tu conjunto de datos. \n",
        "\n",
        "Principal Components Analysis consiste en la reducción de las dimensiones permitiendo simplificar la complejidad de los conjuntos de datos con múltiples dimensiones conservando la información. \n"
      ],
      "metadata": {
        "id": "lm2TGKjlBIb7"
      }
    },
    {
      "cell_type": "code",
      "source": [
        "#Aplicamos PCA con 20 componentes \n",
        "pca = decomposition.PCA(n_components=20)\n",
        "train_df_x_impute_pca = pca.fit_transform(train_df_x_impute_df)"
      ],
      "metadata": {
        "execution": {
          "iopub.status.busy": "2022-10-08T23:03:01.321802Z",
          "iopub.execute_input": "2022-10-08T23:03:01.322139Z",
          "iopub.status.idle": "2022-10-08T23:03:01.649633Z",
          "shell.execute_reply.started": "2022-10-08T23:03:01.322114Z",
          "shell.execute_reply": "2022-10-08T23:03:01.648349Z"
        },
        "trusted": true,
        "id": "-nAyszzcBIb7"
      },
      "execution_count": null,
      "outputs": []
    },
    {
      "cell_type": "code",
      "source": [
        "train_df_x_impute_pca = pd.DataFrame(train_df_x_impute_pca,columns=[f'col_{n}' for n in range(train_df_x_impute_pca.shape[1])])\n",
        "train_df_x_impute_pca"
      ],
      "metadata": {
        "execution": {
          "iopub.status.busy": "2022-10-08T23:03:02.675063Z",
          "iopub.execute_input": "2022-10-08T23:03:02.675399Z",
          "iopub.status.idle": "2022-10-08T23:03:02.701255Z",
          "shell.execute_reply.started": "2022-10-08T23:03:02.675366Z",
          "shell.execute_reply": "2022-10-08T23:03:02.700330Z"
        },
        "trusted": true,
        "id": "z6TWSpG1BIb7"
      },
      "execution_count": null,
      "outputs": []
    },
    {
      "cell_type": "code",
      "source": [
        "#Unimos el conjunto de datos de entrenamiento con el modelo PCA resultante.\n",
        "train_df_pca = train_df_y.join(train_df_x[['customer_ID', 'S_2']]).join(train_df_x_impute_pca)\n",
        "train_df_pca"
      ],
      "metadata": {
        "execution": {
          "iopub.status.busy": "2022-10-08T23:03:04.972857Z",
          "iopub.execute_input": "2022-10-08T23:03:04.973156Z",
          "iopub.status.idle": "2022-10-08T23:03:05.005740Z",
          "shell.execute_reply.started": "2022-10-08T23:03:04.973132Z",
          "shell.execute_reply": "2022-10-08T23:03:05.004603Z"
        },
        "trusted": true,
        "id": "scMC1ZR5BIb8"
      },
      "execution_count": null,
      "outputs": []
    },
    {
      "cell_type": "markdown",
      "source": [
        "## Modela tus datos de dos o más formas diferentes para comparar los resultados. \n",
        "\n",
        "En este caso se utilizan los algoritmos de aprendizaje supervisado:\n",
        "\n",
        "**Random Forest** para la clasificación y regresión. Se generan árboles de decisión sobre los datos seleccionados y se realizan las predicciones sobre cada rama, generando así la mejor solución.\n",
        "\n",
        "**Regresión logística** para predecir el resultado de una variable categórica en función de las variables independientes.\n",
        "\n",
        "\n",
        "\n"
      ],
      "metadata": {
        "id": "_OUC5YzrBIb8"
      }
    },
    {
      "cell_type": "code",
      "source": [
        "#Se generan las variables de entrenamiento \"x\" y \"y\"\n",
        "x = train_df_pca.drop(columns=['target','customer_ID','S_2'])\n",
        "y = train_df_pca['target']\n",
        "X_train, X_test, y_train, y_test = train_test_split(x, y, test_size=0.25, stratify=y, random_state=42)"
      ],
      "metadata": {
        "id": "hgt8HWd_TCZX"
      },
      "execution_count": null,
      "outputs": []
    },
    {
      "cell_type": "code",
      "source": [
        "#Se imprimen los resultados de cada conjunto de entrenamiento y prueba\n",
        "print(\"X_train  Filas:\",X_train.shape[0],\" Columnas:\",X_train.shape[1])\n",
        "print(\"X_test Filas:\",X_test.shape[0],\" Columnas:\",X_test.shape[1])\n",
        "print(\"y_train Filas:\",y_train.shape)\n",
        "print(\"y_test Filas:\",y_test.shape)"
      ],
      "metadata": {
        "id": "rqG9RLQ2TE1r"
      },
      "execution_count": null,
      "outputs": []
    },
    {
      "cell_type": "code",
      "source": [
        "#Se aplica el modelo de clasificación y predicción de Random Forrest\n",
        "from sklearn.ensemble import RandomForestClassifier\n",
        "clf = RandomForestClassifier(n_estimators = 100) \n",
        "clf.fit(X_train, y_train)\n",
        "y_pred = clf.predict(X_test)\n",
        "from sklearn import metrics \n",
        "print()\n",
        " \n",
        "# Se calcula la precisión del modelo\n",
        "print(\"Accuracy del modelo: \", metrics.accuracy_score(y_test, y_pred))"
      ],
      "metadata": {
        "id": "oa_CfuE2TGrm"
      },
      "execution_count": null,
      "outputs": []
    },
    {
      "cell_type": "code",
      "source": [
        "#Se aplica el modelo de regresión logística\n",
        "from sklearn.linear_model import LogisticRegression\n",
        "classifier = LogisticRegression(random_state = 0)\n",
        "classifier.fit(X_train, y_train)\n",
        "y_pred = classifier.predict(X_test)\n",
        "# Se calcula la precisión del modelo\n",
        "print(\"Accuracy del modelo: \", metrics.accuracy_score(y_test, y_pred))"
      ],
      "metadata": {
        "id": "qCcGx4ZzTIbM"
      },
      "execution_count": null,
      "outputs": []
    },
    {
      "cell_type": "markdown",
      "source": [
        "# Conclusiones\n",
        "\n",
        "Este trabajo permitió poner en práctica lo revisado en los cursos de la plataforma Kaggle: exploración de datos, ingeniería de características y Modelos de ML principalmente, así como la visualización de los datos.\n",
        "\n",
        "Escogimos un tema donde el conjunto de datos era de un tamaño muy grande que resultaba complejo de manejar al ejecutar este notebook, por lo que se hizo un subconjunto para efectos de la codificación.\n",
        "\n"
      ],
      "metadata": {
        "id": "u0aFFoUEZW3X"
      }
    },
    {
      "cell_type": "markdown",
      "source": [
        "# Referencias\n",
        "\n",
        "*   https://www.kaggle.com/code/girishkumarsahu/american-express-default-prediction-eda/notebook\n",
        "*   https://www.kaggle.com/code/girishkumarsahu/american-express-default-prediction-ml-model\n",
        "*   Jamieson Bolder, David. **Credit-Risk Modelling: Theoretical Foundations, Diagnostic Tools, Practical Examples, and Numerical Recipes in Python**. Springer 2018. "
      ],
      "metadata": {
        "id": "npU5rJRxZcvG"
      }
    }
  ]
}